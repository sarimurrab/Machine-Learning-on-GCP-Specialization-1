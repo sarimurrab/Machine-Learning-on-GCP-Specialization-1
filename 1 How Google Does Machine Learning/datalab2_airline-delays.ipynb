{
 "cells": [
  {
   "cell_type": "code",
   "execution_count": 6,
   "metadata": {},
   "outputs": [],
   "source": [
    "from google.cloud import bigquery\n",
    "bq = bigquery.Client(project='qwiklabs-gcp-02-8c6fad348f03')"
   ]
  },
  {
   "cell_type": "code",
   "execution_count": 7,
   "metadata": {},
   "outputs": [],
   "source": [
    "query = \"\"\"\n",
    "SELECT\n",
    "  departure_delay,\n",
    "  COUNT(1) AS num_flights,\n",
    "  APPROX_QUANTILES(arrival_delay, 5) AS arrival_delay_quantiles\n",
    "FROM\n",
    "  `bigquery-samples.airline_ontime_data.flights`\n",
    "GROUP BY\n",
    "  departure_delay\n",
    "HAVING\n",
    "  num_flights > 100\n",
    "ORDER BY\n",
    "  departure_delay ASC \"\"\""
   ]
  },
  {
   "cell_type": "code",
   "execution_count": 8,
   "metadata": {},
   "outputs": [
    {
     "data": {
      "text/html": [
       "<div>\n",
       "<style scoped>\n",
       "    .dataframe tbody tr th:only-of-type {\n",
       "        vertical-align: middle;\n",
       "    }\n",
       "\n",
       "    .dataframe tbody tr th {\n",
       "        vertical-align: top;\n",
       "    }\n",
       "\n",
       "    .dataframe thead th {\n",
       "        text-align: right;\n",
       "    }\n",
       "</style>\n",
       "<table border=\"1\" class=\"dataframe\">\n",
       "  <thead>\n",
       "    <tr style=\"text-align: right;\">\n",
       "      <th></th>\n",
       "      <th>departure_delay</th>\n",
       "      <th>num_flights</th>\n",
       "      <th>arrival_delay_quantiles</th>\n",
       "    </tr>\n",
       "  </thead>\n",
       "  <tbody>\n",
       "    <tr>\n",
       "      <th>0</th>\n",
       "      <td>-37.0</td>\n",
       "      <td>107</td>\n",
       "      <td>[-66.0, -41.0, -30.0, -17.0, -3.0, 33.0]</td>\n",
       "    </tr>\n",
       "    <tr>\n",
       "      <th>1</th>\n",
       "      <td>-36.0</td>\n",
       "      <td>139</td>\n",
       "      <td>[-74.0, -39.0, -32.0, -18.0, -7.0, 49.0]</td>\n",
       "    </tr>\n",
       "    <tr>\n",
       "      <th>2</th>\n",
       "      <td>-35.0</td>\n",
       "      <td>191</td>\n",
       "      <td>[-68.0, -40.0, -28.0, -14.0, -4.0, 85.0]</td>\n",
       "    </tr>\n",
       "    <tr>\n",
       "      <th>3</th>\n",
       "      <td>-34.0</td>\n",
       "      <td>195</td>\n",
       "      <td>[-58.0, -40.0, -30.0, -19.0, -8.0, 39.0]</td>\n",
       "    </tr>\n",
       "    <tr>\n",
       "      <th>4</th>\n",
       "      <td>-33.0</td>\n",
       "      <td>227</td>\n",
       "      <td>[-59.0, -39.0, -32.0, -20.0, -7.0, 25.0]</td>\n",
       "    </tr>\n",
       "    <tr>\n",
       "      <th>5</th>\n",
       "      <td>-32.0</td>\n",
       "      <td>277</td>\n",
       "      <td>[-58.0, -38.0, -31.0, -22.0, -5.0, 124.0]</td>\n",
       "    </tr>\n",
       "    <tr>\n",
       "      <th>6</th>\n",
       "      <td>-31.0</td>\n",
       "      <td>311</td>\n",
       "      <td>[-58.0, -37.0, -31.0, -22.0, -7.0, 104.0]</td>\n",
       "    </tr>\n",
       "    <tr>\n",
       "      <th>7</th>\n",
       "      <td>-30.0</td>\n",
       "      <td>658</td>\n",
       "      <td>[-90.0, -37.0, -29.0, -18.0, -5.0, 80.0]</td>\n",
       "    </tr>\n",
       "    <tr>\n",
       "      <th>8</th>\n",
       "      <td>-29.0</td>\n",
       "      <td>502</td>\n",
       "      <td>[-53.0, -35.0, -29.0, -22.0, -6.0, 71.0]</td>\n",
       "    </tr>\n",
       "    <tr>\n",
       "      <th>9</th>\n",
       "      <td>-28.0</td>\n",
       "      <td>648</td>\n",
       "      <td>[-54.0, -34.0, -29.0, -21.0, -7.0, 72.0]</td>\n",
       "    </tr>\n",
       "  </tbody>\n",
       "</table>\n",
       "</div>"
      ],
      "text/plain": [
       "   departure_delay  num_flights                    arrival_delay_quantiles\n",
       "0            -37.0          107   [-66.0, -41.0, -30.0, -17.0, -3.0, 33.0]\n",
       "1            -36.0          139   [-74.0, -39.0, -32.0, -18.0, -7.0, 49.0]\n",
       "2            -35.0          191   [-68.0, -40.0, -28.0, -14.0, -4.0, 85.0]\n",
       "3            -34.0          195   [-58.0, -40.0, -30.0, -19.0, -8.0, 39.0]\n",
       "4            -33.0          227   [-59.0, -39.0, -32.0, -20.0, -7.0, 25.0]\n",
       "5            -32.0          277  [-58.0, -38.0, -31.0, -22.0, -5.0, 124.0]\n",
       "6            -31.0          311  [-58.0, -37.0, -31.0, -22.0, -7.0, 104.0]\n",
       "7            -30.0          658   [-90.0, -37.0, -29.0, -18.0, -5.0, 80.0]\n",
       "8            -29.0          502   [-53.0, -35.0, -29.0, -22.0, -6.0, 71.0]\n",
       "9            -28.0          648   [-54.0, -34.0, -29.0, -21.0, -7.0, 72.0]"
      ]
     },
     "execution_count": 8,
     "metadata": {},
     "output_type": "execute_result"
    }
   ],
   "source": [
    "df =  bq.query(query).to_dataframe()\n",
    "df.head(10)"
   ]
  },
  {
   "cell_type": "code",
   "execution_count": 10,
   "metadata": {},
   "outputs": [
    {
     "data": {
      "text/html": [
       "<div>\n",
       "<style scoped>\n",
       "    .dataframe tbody tr th:only-of-type {\n",
       "        vertical-align: middle;\n",
       "    }\n",
       "\n",
       "    .dataframe tbody tr th {\n",
       "        vertical-align: top;\n",
       "    }\n",
       "\n",
       "    .dataframe thead th {\n",
       "        text-align: right;\n",
       "    }\n",
       "</style>\n",
       "<table border=\"1\" class=\"dataframe\">\n",
       "  <thead>\n",
       "    <tr style=\"text-align: right;\">\n",
       "      <th></th>\n",
       "      <th>departure_delay</th>\n",
       "      <th>0%</th>\n",
       "      <th>10%</th>\n",
       "      <th>20%</th>\n",
       "      <th>30%</th>\n",
       "      <th>40%</th>\n",
       "      <th>50%</th>\n",
       "    </tr>\n",
       "  </thead>\n",
       "  <tbody>\n",
       "    <tr>\n",
       "      <th>0</th>\n",
       "      <td>-37.0</td>\n",
       "      <td>-66.0</td>\n",
       "      <td>-41.0</td>\n",
       "      <td>-30.0</td>\n",
       "      <td>-17.0</td>\n",
       "      <td>-3.0</td>\n",
       "      <td>33.0</td>\n",
       "    </tr>\n",
       "    <tr>\n",
       "      <th>1</th>\n",
       "      <td>-36.0</td>\n",
       "      <td>-74.0</td>\n",
       "      <td>-39.0</td>\n",
       "      <td>-32.0</td>\n",
       "      <td>-18.0</td>\n",
       "      <td>-7.0</td>\n",
       "      <td>49.0</td>\n",
       "    </tr>\n",
       "    <tr>\n",
       "      <th>2</th>\n",
       "      <td>-35.0</td>\n",
       "      <td>-68.0</td>\n",
       "      <td>-40.0</td>\n",
       "      <td>-28.0</td>\n",
       "      <td>-14.0</td>\n",
       "      <td>-4.0</td>\n",
       "      <td>85.0</td>\n",
       "    </tr>\n",
       "    <tr>\n",
       "      <th>3</th>\n",
       "      <td>-34.0</td>\n",
       "      <td>-58.0</td>\n",
       "      <td>-40.0</td>\n",
       "      <td>-30.0</td>\n",
       "      <td>-19.0</td>\n",
       "      <td>-8.0</td>\n",
       "      <td>39.0</td>\n",
       "    </tr>\n",
       "    <tr>\n",
       "      <th>4</th>\n",
       "      <td>-33.0</td>\n",
       "      <td>-59.0</td>\n",
       "      <td>-39.0</td>\n",
       "      <td>-32.0</td>\n",
       "      <td>-20.0</td>\n",
       "      <td>-7.0</td>\n",
       "      <td>25.0</td>\n",
       "    </tr>\n",
       "  </tbody>\n",
       "</table>\n",
       "</div>"
      ],
      "text/plain": [
       "   departure_delay    0%   10%   20%   30%  40%   50%\n",
       "0            -37.0 -66.0 -41.0 -30.0 -17.0 -3.0  33.0\n",
       "1            -36.0 -74.0 -39.0 -32.0 -18.0 -7.0  49.0\n",
       "2            -35.0 -68.0 -40.0 -28.0 -14.0 -4.0  85.0\n",
       "3            -34.0 -58.0 -40.0 -30.0 -19.0 -8.0  39.0\n",
       "4            -33.0 -59.0 -39.0 -32.0 -20.0 -7.0  25.0"
      ]
     },
     "execution_count": 10,
     "metadata": {},
     "output_type": "execute_result"
    }
   ],
   "source": [
    "import pandas as pd\n",
    "percentiles = df['arrival_delay_quantiles'].apply(pd.Series)\n",
    "percentiles = percentiles.rename(columns = lambda x : str(x*10) + \"%\")\n",
    "df = pd.concat([df['departure_delay'], percentiles], axis=1)\n",
    "df.head()"
   ]
  },
  {
   "cell_type": "code",
   "execution_count": 11,
   "metadata": {},
   "outputs": [
    {
     "data": {
      "text/plain": [
       "(508, 7)"
      ]
     },
     "execution_count": 11,
     "metadata": {},
     "output_type": "execute_result"
    }
   ],
   "source": [
    "df.shape"
   ]
  },
  {
   "cell_type": "code",
   "execution_count": 13,
   "metadata": {},
   "outputs": [
    {
     "data": {
      "image/png": "[encoded data removed]",
      "text/plain": [
       "<Figure size 432x288 with 1 Axes>"
      ]
     },
     "metadata": {
      "needs_background": "light"
     },
     "output_type": "display_data"
    }
   ],
   "source": [
    "without_extremes = df.drop(['0%', '50%'], 1)\n",
    "without_extremes.plot(x='departure_delay', xlim=(-30,50), ylim=(-50,50));"
   ]
  },
  {
   "cell_type": "code",
   "execution_count": null,
   "metadata": {},
   "outputs": [],
   "source": []
  }
 ],
 "metadata": {
  "kernelspec": {
   "display_name": "Python 3",
   "language": "python",
   "name": "python3"
  },
  "language_info": {
   "codemirror_mode": {
    "name": "ipython",
    "version": 3
   },
   "file_extension": ".py",
   "mimetype": "text/x-python",
   "name": "python",
   "nbconvert_exporter": "python",
   "pygments_lexer": "ipython3",
   "version": "3.7.6"
  }
 },
 "nbformat": 4,
 "nbformat_minor": 4
}
